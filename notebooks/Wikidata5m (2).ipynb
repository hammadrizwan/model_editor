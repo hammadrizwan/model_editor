{
  "cells": [
    {
      "cell_type": "code",
      "execution_count": 1,
      "metadata": {
        "colab": {
          "base_uri": "https://localhost:8080/"
        },
        "id": "XPgaFPJZRA_N",
        "outputId": "c4b519d1-c798-49b8-debe-00b01445c5a1"
      },
      "outputs": [
        {
          "name": "stdout",
          "output_type": "stream",
          "text": [
            "Collecting transformers\n",
            "  Downloading transformers-4.33.2-py3-none-any.whl (7.6 MB)\n",
            "\u001b[?25l     \u001b[90m━━━━━━━━━━━━━━━━━━━━━━━━━━━━━━━━━━━━━━━━\u001b[0m \u001b[32m0.0/7.6 MB\u001b[0m \u001b[31m?\u001b[0m eta \u001b[36m-:--:--\u001b[0m\r\u001b[2K     \u001b[91m━\u001b[0m\u001b[91m╸\u001b[0m\u001b[90m━━━━━━━━━━━━━━━━━━━━━━━━━━━━━━━━━━━━━━\u001b[0m \u001b[32m0.4/7.6 MB\u001b[0m \u001b[31m10.8 MB/s\u001b[0m eta \u001b[36m0:00:01\u001b[0m\r\u001b[2K     \u001b[91m━━━━━━━━━━━━━━━━━━━━━━━━━━━━━━\u001b[0m\u001b[91m╸\u001b[0m\u001b[90m━━━━━━━━━\u001b[0m \u001b[32m5.9/7.6 MB\u001b[0m \u001b[31m84.6 MB/s\u001b[0m eta \u001b[36m0:00:01\u001b[0m\r\u001b[2K     \u001b[91m━━━━━━━━━━━━━━━━━━━━━━━━━━━━━━━━━━━━━━━\u001b[0m\u001b[91m╸\u001b[0m \u001b[32m7.6/7.6 MB\u001b[0m \u001b[31m98.3 MB/s\u001b[0m eta \u001b[36m0:00:01\u001b[0m\r\u001b[2K     \u001b[90m━━━━━━━━━━━━━━━━━━━━━━━━━━━━━━━━━━━━━━━━\u001b[0m \u001b[32m7.6/7.6 MB\u001b[0m \u001b[31m70.6 MB/s\u001b[0m eta \u001b[36m0:00:00\u001b[0m\n",
            "\u001b[?25hRequirement already satisfied: filelock in /usr/local/lib/python3.10/dist-packages (from transformers) (3.12.2)\n",
            "Collecting huggingface-hub<1.0,>=0.15.1 (from transformers)\n",
            "  Downloading huggingface_hub-0.17.2-py3-none-any.whl (294 kB)\n",
            "\u001b[2K     \u001b[90m━━━━━━━━━━━━━━━━━━━━━━━━━━━━━━━━━━━━━━\u001b[0m \u001b[32m294.9/294.9 kB\u001b[0m \u001b[31m35.3 MB/s\u001b[0m eta \u001b[36m0:00:00\u001b[0m\n",
            "\u001b[?25hRequirement already satisfied: numpy>=1.17 in /usr/local/lib/python3.10/dist-packages (from transformers) (1.23.5)\n",
            "Requirement already satisfied: packaging>=20.0 in /usr/local/lib/python3.10/dist-packages (from transformers) (23.1)\n",
            "Requirement already satisfied: pyyaml>=5.1 in /usr/local/lib/python3.10/dist-packages (from transformers) (6.0.1)\n",
            "Requirement already satisfied: regex!=2019.12.17 in /usr/local/lib/python3.10/dist-packages (from transformers) (2023.6.3)\n",
            "Requirement already satisfied: requests in /usr/local/lib/python3.10/dist-packages (from transformers) (2.31.0)\n",
            "Collecting tokenizers!=0.11.3,<0.14,>=0.11.1 (from transformers)\n",
            "  Downloading tokenizers-0.13.3-cp310-cp310-manylinux_2_17_x86_64.manylinux2014_x86_64.whl (7.8 MB)\n",
            "\u001b[2K     \u001b[90m━━━━━━━━━━━━━━━━━━━━━━━━━━━━━━━━━━━━━━━━\u001b[0m \u001b[32m7.8/7.8 MB\u001b[0m \u001b[31m123.3 MB/s\u001b[0m eta \u001b[36m0:00:00\u001b[0m\n",
            "\u001b[?25hCollecting safetensors>=0.3.1 (from transformers)\n",
            "  Downloading safetensors-0.3.3-cp310-cp310-manylinux_2_17_x86_64.manylinux2014_x86_64.whl (1.3 MB)\n",
            "\u001b[2K     \u001b[90m━━━━━━━━━━━━━━━━━━━━━━━━━━━━━━━━━━━━━━━━\u001b[0m \u001b[32m1.3/1.3 MB\u001b[0m \u001b[31m90.4 MB/s\u001b[0m eta \u001b[36m0:00:00\u001b[0m\n",
            "\u001b[?25hRequirement already satisfied: tqdm>=4.27 in /usr/local/lib/python3.10/dist-packages (from transformers) (4.66.1)\n",
            "Requirement already satisfied: fsspec in /usr/local/lib/python3.10/dist-packages (from huggingface-hub<1.0,>=0.15.1->transformers) (2023.6.0)\n",
            "Requirement already satisfied: typing-extensions>=3.7.4.3 in /usr/local/lib/python3.10/dist-packages (from huggingface-hub<1.0,>=0.15.1->transformers) (4.5.0)\n",
            "Requirement already satisfied: charset-normalizer<4,>=2 in /usr/local/lib/python3.10/dist-packages (from requests->transformers) (3.2.0)\n",
            "Requirement already satisfied: idna<4,>=2.5 in /usr/local/lib/python3.10/dist-packages (from requests->transformers) (3.4)\n",
            "Requirement already satisfied: urllib3<3,>=1.21.1 in /usr/local/lib/python3.10/dist-packages (from requests->transformers) (2.0.4)\n",
            "Requirement already satisfied: certifi>=2017.4.17 in /usr/local/lib/python3.10/dist-packages (from requests->transformers) (2023.7.22)\n",
            "Installing collected packages: tokenizers, safetensors, huggingface-hub, transformers\n",
            "Successfully installed huggingface-hub-0.17.2 safetensors-0.3.3 tokenizers-0.13.3 transformers-4.33.2\n"
          ]
        }
      ],
      "source": [
        "!pip install transformers"
      ]
    },
    {
      "cell_type": "code",
      "execution_count": 2,
      "metadata": {
        "id": "9C1_tG1YGvVH"
      },
      "outputs": [],
      "source": [
        "import torch\n",
        "import torch.nn as nn\n",
        "import torch.optim as optim\n",
        "from collections import Counter\n",
        "from torch.utils.data import Dataset, DataLoader\n",
        "from sklearn.metrics import classification_report\n",
        "import seaborn as sns\n",
        "import matplotlib.pyplot as plt\n",
        "from sklearn.metrics import confusion_matrix\n",
        "import numpy as np\n",
        "from sklearn.model_selection import train_test_split\n",
        "import json\n",
        "import pandas as pd"
      ]
    },
    {
      "cell_type": "code",
      "execution_count": 3,
      "metadata": {
        "colab": {
          "base_uri": "https://localhost:8080/",
          "height": 35
        },
        "id": "D3CP7nnFOnYz",
        "outputId": "d29eaba6-e488-4a4e-8b4b-b073400fad14"
      },
      "outputs": [
        {
          "data": {
            "application/vnd.google.colaboratory.intrinsic+json": {
              "type": "string"
            },
            "text/plain": [
              "'Tesla T4'"
            ]
          },
          "execution_count": 3,
          "metadata": {},
          "output_type": "execute_result"
        }
      ],
      "source": [
        "torch.cuda.get_device_name()"
      ]
    },
    {
      "cell_type": "code",
      "execution_count": 4,
      "metadata": {
        "colab": {
          "base_uri": "https://localhost:8080/"
        },
        "id": "df9FnjCdVasu",
        "outputId": "78fc77b5-98af-472c-ea36-770803e4f090"
      },
      "outputs": [
        {
          "name": "stdout",
          "output_type": "stream",
          "text": [
            "cuda\n"
          ]
        }
      ],
      "source": [
        "\n",
        "device = torch.device(\"cuda\" if torch.cuda.is_available() else \"cpu\")\n",
        "print(device)"
      ]
    },
    {
      "cell_type": "markdown",
      "metadata": {
        "id": "eimuXW3iUBjz"
      },
      "source": [
        "# Wikidata5m\n",
        "## The dataset consists of Main Input, Paraphrases and Local Neutral. Test would consist of Training on 2-3 phrases on single relation and testing on Paraphrase and Local Neutral. Ideally the Flag/Control model should fire on only paraphrase not local neutrals."
      ]
    },
    {
      "cell_type": "code",
      "execution_count": 88,
      "metadata": {
        "id": "J7kWal7jKMln"
      },
      "outputs": [],
      "source": [
        "\n",
        "\n",
        "# Replace 'your_file.jsonl' with the path to your JSONL file.\n",
        "file_path_one = '/content/filtered_wikidata5m_transductive_test.jsonl'\n",
        "file_path_two = '/content/filtered_wikidata5m_transductive_train.jsonl'\n",
        "# List to store parsed JSON objects.\n",
        "data = []\n",
        "\n",
        "# Open the JSONL file and read it line by line.\n",
        "with open(file_path_two, 'r') as file:\n",
        "    for line in file:\n",
        "        # Parse the JSON object in each line.\n",
        "        try:\n",
        "            json_object = json.loads(line.strip())\n",
        "            data.append(json_object)\n",
        "        except json.JSONDecodeError as e:\n",
        "            print(f\"Error decoding JSON: {str(e)}\")\n"
      ]
    },
    {
      "cell_type": "code",
      "execution_count": 89,
      "metadata": {
        "id": "k_lq1y14wR2Y"
      },
      "outputs": [],
      "source": [
        "data=data[:10000]"
      ]
    },
    {
      "cell_type": "code",
      "execution_count": 90,
      "metadata": {
        "id": "AXTER_tiSz_c"
      },
      "outputs": [],
      "source": [
        "import random, itertools\n",
        "train_x={}\n",
        "paraphrase_x={}\n",
        "local_neutral_x_train={}\n",
        "local_neutral_x_test={}\n",
        "control=0\n",
        "record_number=1\n",
        "for row in data:\n",
        "  if(control==0):#construct train and paraphrase dataset\n",
        "      random.shuffle(row[\"entity1\"])\n",
        "      random.shuffle(row[\"entity2\"])\n",
        "      random.shuffle(row[\"relation\"])\n",
        "\n",
        "      split_point_entity_1 = len(row[\"entity1\"]) // 2\n",
        "      split_point_entity_2 = len(row[\"entity2\"]) // 2\n",
        "      split_point_relation = len(row[\"relation\"]) // 2\n",
        "\n",
        "      entity1_train = row[\"entity1\"][:split_point_entity_1]\n",
        "      entity1_paraphrase = row[\"entity1\"][split_point_entity_1:]\n",
        "\n",
        "      entity2_train = row[\"entity2\"][:split_point_entity_2]\n",
        "      entity2_paraphrase = row[\"entity2\"][split_point_entity_2:]\n",
        "\n",
        "      train_relation = row[\"relation\"][:split_point_relation]\n",
        "      paraphrase_relation = row[\"relation\"][split_point_relation:]\n",
        "\n",
        "      template = \"{} has relation \\'{}\\' to {}.\"\n",
        "\n",
        "      # Generate all possible combinations of elements from the two lists\n",
        "      combinations_train = list(itertools.product(entity1_train, entity2_train,train_relation))\n",
        "      combinations_paraphrase = list(itertools.product(entity1_paraphrase, entity2_paraphrase,paraphrase_relation))\n",
        "\n",
        "\n",
        "      # Fill the template with each combination\n",
        "      train_x[record_number]=[template.format(item1, item2, item3) for item1, item2,item3 in combinations_train]\n",
        "      random.shuffle(train_x[record_number])\n",
        "      train_x[record_number]=train_x[record_number][:3]\n",
        "      paraphrase_x[record_number]=[template.format(item1, item2, item3) for item1, item2,item3 in combinations_paraphrase]\n",
        "      random.shuffle(paraphrase_x[record_number])\n",
        "      paraphrase_x[record_number]=paraphrase_x[record_number][:3]\n",
        "      control+=1\n",
        "\n",
        "  elif(control==1):\n",
        "      random.shuffle(row[\"entity1\"])\n",
        "      random.shuffle(row[\"entity2\"])\n",
        "      random.shuffle(row[\"relation\"])\n",
        "      combinations_local_neutral = list(itertools.product(row[\"entity1\"], row[\"entity2\"],row[\"relation\"]))\n",
        "      local_neutral_x_train[record_number]= [template.format(item1, item2, item3) for item1, item2,item3 in combinations_local_neutral]\n",
        "      random.shuffle(local_neutral_x_train[record_number])\n",
        "      local_neutral_x_test[record_number]=local_neutral_x_train[record_number][:3]\n",
        "      local_neutral_x_train[record_number]=local_neutral_x_train[record_number][3:6]\n",
        "      local_neutral_x_test\n",
        "      control-=1\n",
        "      record_number+=1"
      ]
    },
    {
      "cell_type": "code",
      "execution_count": 91,
      "metadata": {
        "colab": {
          "base_uri": "https://localhost:8080/"
        },
        "id": "XcsY8sB4cHbL",
        "outputId": "ca3924a5-0b31-4b9a-cf91-cc805a168cae"
      },
      "outputs": [
        {
          "data": {
            "text/plain": [
              "5000"
            ]
          },
          "execution_count": 91,
          "metadata": {},
          "output_type": "execute_result"
        }
      ],
      "source": [
        "len(local_neutral_x_train)"
      ]
    },
    {
      "cell_type": "code",
      "execution_count": 92,
      "metadata": {
        "colab": {
          "base_uri": "https://localhost:8080/"
        },
        "id": "TCzec5zkhc_S",
        "outputId": "86d28f33-0176-4b2a-a4fc-84a5777965e0"
      },
      "outputs": [
        {
          "data": {
            "text/plain": [
              "[\"ann steely has relation 'Cancer (disease)' to die from.\",\n",
              " \"Cathy O'Donnell has relation 'Cancer medication' to method of murder.\",\n",
              " \"Cathy ODonnell has relation 'Cancers' to method of murder.\"]"
            ]
          },
          "execution_count": 92,
          "metadata": {},
          "output_type": "execute_result"
        }
      ],
      "source": [
        "local_neutral_x_test[1]"
      ]
    },
    {
      "cell_type": "code",
      "execution_count": 93,
      "metadata": {
        "colab": {
          "base_uri": "https://localhost:8080/"
        },
        "id": "y4-XrcWree-x",
        "outputId": "4af62e3d-1bca-4b1a-e5f8-785223e8555f"
      },
      "outputs": [
        {
          "data": {
            "text/plain": [
              "[\"cathy o'donnell has relation 'Robert Weiller' to spouse.\",\n",
              " \"ann steely has relation 'Robert Weiller' to husbands.\",\n",
              " \"ann steely has relation 'Robert Wyler' to partner.\"]"
            ]
          },
          "execution_count": 93,
          "metadata": {},
          "output_type": "execute_result"
        }
      ],
      "source": [
        "paraphrase_x[1]"
      ]
    },
    {
      "cell_type": "code",
      "execution_count": 94,
      "metadata": {
        "colab": {
          "base_uri": "https://localhost:8080/"
        },
        "id": "_kB_E8JQefA2",
        "outputId": "5f7653f0-d37e-4425-c3a2-9cdeff71e2be"
      },
      "outputs": [
        {
          "data": {
            "text/plain": [
              "[\"Kathy O'Donnell has relation 'robert weiller' to wedded to.\",\n",
              " \"Cathy O'Donnell has relation 'robert weiller' to wives.\",\n",
              " \"Cathy O'Donnell has relation 'robert wyler' to consort.\"]"
            ]
          },
          "execution_count": 94,
          "metadata": {},
          "output_type": "execute_result"
        }
      ],
      "source": [
        "train_x[1]"
      ]
    },
    {
      "cell_type": "code",
      "execution_count": 95,
      "metadata": {
        "id": "IQadszqUN9Zf"
      },
      "outputs": [],
      "source": [
        "#GET EMBEDDINGS IN A DICTIONARY OR LIST\n",
        "import torch\n",
        "from transformers import BertTokenizer, BertModel\n",
        "from tqdm import tqdm\n",
        "# Load a pre-trained BERT model and tokenizer\n",
        "model_name = 'bert-base-uncased'  # You can use a different BERT model if needed\n",
        "tokenizer = BertTokenizer.from_pretrained(model_name)\n",
        "bert_model = BertModel.from_pretrained(model_name,output_hidden_states=True).to(device)\n",
        "\n",
        "def get_embeddings(data,flatten=True):\n",
        "  if(flatten):\n",
        "    embeddings=[]\n",
        "  else:\n",
        "    embeddings={}\n",
        "  for key, samples in tqdm(data.items(), desc=\"Processing\"):\n",
        "    # Tokenize the input text\n",
        "    for sample in samples:\n",
        "      encoded_input = tokenizer(sample, return_tensors='pt', padding=True, truncation=True).to(device)\n",
        "      with torch.no_grad():\n",
        "        outputs = bert_model(**encoded_input)\n",
        "        # print(len(outputs.hidden_states))#[11][0][1])\n",
        "      # Extract embeddings from block 6 (index 5, as indexing starts from 0)\n",
        "      if(flatten):\n",
        "        embeddings.append(outputs.hidden_states[6][0][1].detach().cpu().numpy())#outputs.last_hidden_state[0][5].detach().cpu().numpy())\n",
        "      else:\n",
        "        if(key not in embeddings):\n",
        "          embeddings[key]=[]\n",
        "        embeddings[key].append(outputs.hidden_states[6][0][1].detach().cpu().numpy())\n",
        "  return embeddings"
      ]
    },
    {
      "cell_type": "code",
      "execution_count": 96,
      "metadata": {
        "id": "MZtTpbGlJQgm"
      },
      "outputs": [],
      "source": [
        "# CLASSIFIERS AND COST FUNCTIONS\n",
        "class FeedForwardClassifier(nn.Module):\n",
        "    def __init__(self, input_size, hidden_size1,hidden_size2, num_classes):\n",
        "        super(FeedForwardClassifier, self).__init__()\n",
        "        self.fc1 = nn.Linear(input_size, hidden_size1)\n",
        "        self.relu1 = nn.ReLU()\n",
        "        self.fc2 = nn.Linear(hidden_size1, hidden_size2)\n",
        "        self.relu2 = nn.ReLU()\n",
        "        self.fc3 = nn.Linear(hidden_size2, num_classes)\n",
        "        self.sm = nn.Softmax(dim=1)\n",
        "\n",
        "    def forward(self, x):\n",
        "        # x = x.view(x.size(0), -1)\n",
        "        x = self.fc1(x)\n",
        "        x = self.relu1(x)\n",
        "        x = self.fc2(x)\n",
        "        x = self.relu2(x)\n",
        "        x = self.fc3(x)\n",
        "        x = self.sm(x)\n",
        "        return x\n",
        "\n",
        "class SiameseClassificationNetwork(nn.Module):\n",
        "    def __init__(self, input_size, hidden_size1=256, hidden_size2=128, num_classes=2):\n",
        "        super(SiameseClassificationNetwork, self).__init__()\n",
        "        self.fc = nn.Sequential(\n",
        "            nn.Linear(input_size, hidden_size1),\n",
        "            nn.ReLU(),\n",
        "            nn.Linear(hidden_size1, hidden_size2),\n",
        "            nn.ReLU(),\n",
        "        )\n",
        "        self.fc1 = nn.Linear(hidden_size2, num_classes)\n",
        "        self.sm = nn.Softmax(dim=1)\n",
        "\n",
        "    def forward_sequential(self, x):\n",
        "        return self.fc(x)\n",
        "\n",
        "    def forward(self, input1, input2):\n",
        "        output1 = self.forward_sequential(input1)\n",
        "        output2 = self.forward_sequential(input2)\n",
        "        output3 = self.sm(self.fc1(output1))\n",
        "\n",
        "        return output1, output2, output3\n",
        "\n",
        "class CosineSimilarityLoss1(nn.Module):\n",
        "    def __init__(self):\n",
        "        super(CosineSimilarityLoss1, self).__init__()\n",
        "\n",
        "    def forward(self, output1, output2, target):\n",
        "        # Compute cosine similarity\n",
        "        cosine_sim = nn.functional.cosine_similarity(output1, output2)\n",
        "\n",
        "        # The loss is the negative cosine similarity (to maximize similarity)\n",
        "        loss = -torch.mean(cosine_sim * target)\n",
        "\n",
        "        return loss\n",
        "\n",
        "class CosineSimilarityLoss2(nn.Module):\n",
        "    def __init__(self):\n",
        "        super(CosineSimilarityLoss2, self).__init__()\n",
        "\n",
        "    def forward(self, output1, output2, target):\n",
        "        cosine_similarity = nn.functional.cosine_similarity(output1, output2)\n",
        "        loss = torch.mean(0.5 * (1 - cosine_similarity) * target.float())\n",
        "        return loss\n",
        "\n",
        "class CosineSimilarityLoss_SentenceTransformers(nn.Module):\n",
        "  def __init__(self):\n",
        "        super(CosineSimilarityLoss_SentenceTransformers, self).__init__()\n",
        "        self.loss_fct = torch.nn.MSELoss()\n",
        "        self.cos_score_transformation=nn.Identity()\n",
        "\n",
        "  def forward(self, output1, output2, target):\n",
        "      score= torch.cosine_similarity(output1.to(dtype=torch.float), output2.to(dtype=torch.float))\n",
        "      score = self.cos_score_transformation(score)\n",
        "      loss=self.loss_fct(score, target.to(dtype=torch.float).view(-1))\n",
        "      return loss\n",
        "\n",
        "# Define the model and specify input size, hidden size, and number of classes\n"
      ]
    },
    {
      "cell_type": "code",
      "execution_count": 97,
      "metadata": {
        "colab": {
          "base_uri": "https://localhost:8080/"
        },
        "id": "gCx_Mvp0OfOb",
        "outputId": "0934a5cc-b5e5-4527-c234-8706e1a83562"
      },
      "outputs": [
        {
          "data": {
            "text/plain": [
              "tensor(1.0000)"
            ]
          },
          "execution_count": 97,
          "metadata": {},
          "output_type": "execute_result"
        }
      ],
      "source": [
        "cretion=CosineSimilarityLoss_SentenceTransformers()\n",
        "cretion(torch.tensor([[1,1,1]],dtype=float),torch.tensor([[1,1,1]],dtype=float),torch.tensor([0],dtype=float))"
      ]
    },
    {
      "cell_type": "markdown",
      "metadata": {
        "id": "vGH23_rTi2ci"
      },
      "source": [
        "# FeedForward Classifier"
      ]
    },
    {
      "cell_type": "code",
      "execution_count": 98,
      "metadata": {
        "id": "r17MNzdia1Bt"
      },
      "outputs": [],
      "source": [
        "class CustomDatasetClassification(Dataset):\n",
        "    def __init__(self, embeddings, labels):\n",
        "        self.input_embeddings = embeddings\n",
        "        self.labels = labels\n",
        "\n",
        "    def __len__(self):\n",
        "        return len(self.input_embeddings)\n",
        "\n",
        "    def __getitem__(self, index):\n",
        "        image = self.input_embeddings[index]\n",
        "        label = self.labels[index]\n",
        "\n",
        "        return image, label\n",
        "\n",
        "def create_dataloader_classification(x,y, batch_size):\n",
        "  scotus_bert_embedded_dataset = CustomDatasetClassification(x, y)\n",
        "  return DataLoader(scotus_bert_embedded_dataset, batch_size=batch_size, shuffle=True)\n",
        "\n",
        "def train_model_classification(model,data_loader,criterion):\n",
        "  num_epochs = 70\n",
        "  lowest_error = float('inf')\n",
        "  best_model_weights = None\n",
        "  for epoch in range(num_epochs):\n",
        "      for batch in data_loader:\n",
        "          inputs, labels = batch\n",
        "          optimizer.zero_grad()\n",
        "          outputs = model(inputs)\n",
        "          loss = criterion(outputs, labels)\n",
        "          loss.backward()\n",
        "          optimizer.step()\n",
        "          if loss.item() < lowest_error:\n",
        "            lowest_error = loss.item()\n",
        "            best_model_weights = model.state_dict()\n",
        "      print(f'Epoch [{epoch + 1}/{num_epochs}] - Loss: {loss.item():.4f}')\n",
        "  torch.save(best_model_weights, '/content/best_model_weights_feed_forward_classifier_test.pth')\n",
        "  print('Training finished.')\n",
        "\n",
        "def get_predictions_classification(model,embeddings_train_numpy):\n",
        "  model.eval()\n",
        "  predicted_labels=[]\n",
        "  with torch.no_grad():\n",
        "    for x in embeddings_train_numpy:\n",
        "      outputs = model(torch.tensor([x]))\n",
        "      out, inds = torch.max(outputs,dim=1)\n",
        "      pred=inds.cpu().numpy()\n",
        "      predicted_labels.extend(pred)\n",
        "  return predicted_labels\n",
        "\n",
        "def save_classification_report(file_name,Y_train_processed,predicted_labels):\n",
        "  pd.DataFrame(classification_report(Y_train_processed, predicted_labels, target_names=[\"flag\",\"Not_Flag\"], output_dict=True)).T.to_csv(file_name, index= True)\n",
        "\n",
        "def save_heat_map_classification(file_name,Y_train_processed,predicted_labels):\n",
        "  conf_matrix = confusion_matrix(Y_train_processed, predicted_labels)\n",
        "  conf_matrix_norm = conf_matrix.astype('float') / conf_matrix.sum(axis=1)[:, np.newaxis]\n",
        "  plt.figure(figsize=(6, 4))\n",
        "  sns.heatmap(conf_matrix_norm, annot=True, cmap=\"Blues\", fmt=\".2f\", annot_kws={\"size\": 12})\n",
        "\n",
        "  plt.title(\"Confusion Matrix Heatmap\")\n",
        "  plt.xlabel(\"Predicted Labels\")\n",
        "  plt.ylabel(\"True Labels\")\n",
        "\n",
        "  plt.savefig(file_name)"
      ]
    },
    {
      "cell_type": "code",
      "execution_count": 99,
      "metadata": {
        "colab": {
          "base_uri": "https://localhost:8080/"
        },
        "id": "VftdTunros3y",
        "outputId": "c81dc787-d341-4770-f611-aa2e1770ad6e"
      },
      "outputs": [
        {
          "name": "stderr",
          "output_type": "stream",
          "text": [
            "Processing: 100%|██████████| 5000/5000 [03:37<00:00, 23.03it/s]\n",
            "Processing: 100%|██████████| 5000/5000 [03:39<00:00, 22.78it/s]\n"
          ]
        }
      ],
      "source": [
        "train_x_embeddings=get_embeddings(train_x)\n",
        "local_neutral_x_train_embeddings=get_embeddings(local_neutral_x_train)"
      ]
    },
    {
      "cell_type": "code",
      "execution_count": 100,
      "metadata": {
        "colab": {
          "base_uri": "https://localhost:8080/"
        },
        "id": "H0Pf4d79cGSW",
        "outputId": "f17b76fe-6697-4f63-ce15-970fd1c64e62"
      },
      "outputs": [
        {
          "name": "stdout",
          "output_type": "stream",
          "text": [
            "Epoch [1/70] - Loss: 0.6906\n",
            "Epoch [2/70] - Loss: 0.6931\n",
            "Epoch [3/70] - Loss: 0.7013\n",
            "Epoch [4/70] - Loss: 0.6940\n",
            "Epoch [5/70] - Loss: 0.7056\n",
            "Epoch [6/70] - Loss: 0.7028\n",
            "Epoch [7/70] - Loss: 0.6933\n",
            "Epoch [8/70] - Loss: 0.6605\n",
            "Epoch [9/70] - Loss: 0.6736\n",
            "Epoch [10/70] - Loss: 0.6714\n",
            "Epoch [11/70] - Loss: 0.6809\n",
            "Epoch [12/70] - Loss: 0.5758\n",
            "Epoch [13/70] - Loss: 0.5286\n",
            "Epoch [14/70] - Loss: 0.5329\n",
            "Epoch [15/70] - Loss: 0.4822\n",
            "Epoch [16/70] - Loss: 0.4004\n",
            "Epoch [17/70] - Loss: 0.5031\n",
            "Epoch [18/70] - Loss: 0.5666\n",
            "Epoch [19/70] - Loss: 0.4555\n",
            "Epoch [20/70] - Loss: 0.4994\n",
            "Epoch [21/70] - Loss: 0.3470\n",
            "Epoch [22/70] - Loss: 0.3854\n",
            "Epoch [23/70] - Loss: 0.3625\n",
            "Epoch [24/70] - Loss: 0.4729\n",
            "Epoch [25/70] - Loss: 0.3173\n",
            "Epoch [26/70] - Loss: 0.3271\n",
            "Epoch [27/70] - Loss: 0.3427\n",
            "Epoch [28/70] - Loss: 0.4036\n",
            "Epoch [29/70] - Loss: 0.3538\n",
            "Epoch [30/70] - Loss: 0.4365\n",
            "Epoch [31/70] - Loss: 0.3862\n",
            "Epoch [32/70] - Loss: 0.3617\n",
            "Epoch [33/70] - Loss: 0.3505\n",
            "Epoch [34/70] - Loss: 0.3898\n",
            "Epoch [35/70] - Loss: 0.3502\n",
            "Epoch [36/70] - Loss: 0.4892\n",
            "Epoch [37/70] - Loss: 0.3769\n",
            "Epoch [38/70] - Loss: 0.3173\n",
            "Epoch [39/70] - Loss: 0.3323\n",
            "Epoch [40/70] - Loss: 0.3221\n",
            "Epoch [41/70] - Loss: 0.5042\n",
            "Epoch [42/70] - Loss: 0.3417\n",
            "Epoch [43/70] - Loss: 0.3137\n",
            "Epoch [44/70] - Loss: 0.3139\n",
            "Epoch [45/70] - Loss: 0.3731\n",
            "Epoch [46/70] - Loss: 0.4178\n",
            "Epoch [47/70] - Loss: 0.3137\n",
            "Epoch [48/70] - Loss: 0.3759\n",
            "Epoch [49/70] - Loss: 0.3257\n",
            "Epoch [50/70] - Loss: 0.4387\n",
            "Epoch [51/70] - Loss: 0.4320\n",
            "Epoch [52/70] - Loss: 0.3181\n",
            "Epoch [53/70] - Loss: 0.3854\n",
            "Epoch [54/70] - Loss: 0.3749\n",
            "Epoch [55/70] - Loss: 0.3135\n",
            "Epoch [56/70] - Loss: 0.4064\n",
            "Epoch [57/70] - Loss: 0.3762\n",
            "Epoch [58/70] - Loss: 0.5214\n",
            "Epoch [59/70] - Loss: 0.4843\n",
            "Epoch [60/70] - Loss: 0.3604\n",
            "Epoch [61/70] - Loss: 0.4386\n",
            "Epoch [62/70] - Loss: 0.3758\n",
            "Epoch [63/70] - Loss: 0.3138\n",
            "Epoch [64/70] - Loss: 0.3137\n",
            "Epoch [65/70] - Loss: 0.3756\n",
            "Epoch [66/70] - Loss: 0.3316\n",
            "Epoch [67/70] - Loss: 0.3770\n",
            "Epoch [68/70] - Loss: 0.3135\n",
            "Epoch [69/70] - Loss: 0.3775\n",
            "Epoch [70/70] - Loss: 0.3776\n",
            "Training finished.\n"
          ]
        }
      ],
      "source": [
        "# path_to_save=\"/content/drive/MyDrive/PhD_Dal/Scotus_Testing/\"\n",
        "# print(random_samples_index_dict)\n",
        "# for key,values in random_samples_index_dict.items():\n",
        "#   name=str(\"label_\"+str(key))\n",
        "#   for val in values:\n",
        "# name_sub=name+\"_split_\"+str(val)\n",
        "# print(key,val)\n",
        "\n",
        "\n",
        "# paraphrase_x_embeddings=get_embeddings(paraphrase_x)\n",
        "# local_neutral_x_test_embeddings=get_embeddings(local_neutral_x_test)\n",
        "\n",
        "\n",
        "training_data=train_x_embeddings + local_neutral_x_train_embeddings\n",
        "y_train=list(np.ones(len(train_x_embeddings),dtype=int)) + list(np.zeros(len(local_neutral_x_train_embeddings),dtype=int))\n",
        "\n",
        "\n",
        "# testing_data= paraphrase_x_embeddings + local_neutral_x_test_embeddings\n",
        "# y_test= list(np.ones(len(paraphrase_x_embeddings))) + list(np.zeros(len(local_neutral_x_test_embeddings)))\n",
        "\n",
        "\n",
        "data_loader_train=create_dataloader_classification(training_data,y_train,32)\n",
        "\n",
        "model = FeedForwardClassifier(input_size=768,hidden_size1=384,hidden_size2=192, num_classes=2)\n",
        "criterion = nn.CrossEntropyLoss()\n",
        "optimizer = optim.Adam(model.parameters(), lr=0.0001,)\n",
        "\n",
        "train_model_classification(model,data_loader_train,criterion)\n",
        "# predicted_labels=get_predictions(model,embeddings_train_numpy)\n",
        "# save_classification_report(path_to_save+name_sub+\".csv\",Y_train_processed,predicted_labels)\n",
        "# save_heat_map(path_to_save+name_sub+\".png\",Y_train_processed,predicted_labels)\n"
      ]
    },
    {
      "cell_type": "code",
      "execution_count": 101,
      "metadata": {
        "colab": {
          "base_uri": "https://localhost:8080/"
        },
        "id": "eKXdf6vlmgk6",
        "outputId": "5f8231d8-81a7-4414-bffc-cf9aef50be45"
      },
      "outputs": [
        {
          "data": {
            "text/plain": [
              "<All keys matched successfully>"
            ]
          },
          "execution_count": 101,
          "metadata": {},
          "output_type": "execute_result"
        }
      ],
      "source": [
        "model = FeedForwardClassifier(input_size=768,hidden_size1=384,hidden_size2=192, num_classes=2)\n",
        "model.load_state_dict(torch.load(\"/content/best_model_weights_feed_forward_classifier_test.pth\"))"
      ]
    },
    {
      "cell_type": "code",
      "execution_count": 102,
      "metadata": {
        "colab": {
          "base_uri": "https://localhost:8080/"
        },
        "id": "OMvxodaqAyUV",
        "outputId": "1dddd15e-67cf-410c-e246-6bb167ae33a9"
      },
      "outputs": [
        {
          "name": "stderr",
          "output_type": "stream",
          "text": [
            "Processing: 100%|██████████| 5000/5000 [03:33<00:00, 23.36it/s]\n",
            "Processing: 100%|██████████| 5000/5000 [03:37<00:00, 22.96it/s]\n"
          ]
        }
      ],
      "source": [
        "test_x_embeddings=get_embeddings(paraphrase_x)\n",
        "local_neutral_x_test_embeddings=get_embeddings(local_neutral_x_test)\n",
        "testing_data=train_x_embeddings + local_neutral_x_train_embeddings\n",
        "y_test=list(np.ones(len(test_x_embeddings),dtype=int)) + list(np.zeros(len(local_neutral_x_train_embeddings),dtype=int))\n",
        "preds=get_predictions_classification(model,testing_data)\n"
      ]
    },
    {
      "cell_type": "code",
      "execution_count": 103,
      "metadata": {
        "colab": {
          "base_uri": "https://localhost:8080/"
        },
        "id": "dT0ojSODif7r",
        "outputId": "1697923c-77c4-4b4b-be2c-d11f740a4d1f"
      },
      "outputs": [
        {
          "name": "stdout",
          "output_type": "stream",
          "text": [
            "               precision    recall  f1-score   support\n",
            "\n",
            "Local Neutral       0.97      0.96      0.97     15000\n",
            "   Main Input       0.96      0.97      0.97     15000\n",
            "\n",
            "     accuracy                           0.97     30000\n",
            "    macro avg       0.97      0.97      0.97     30000\n",
            " weighted avg       0.97      0.97      0.97     30000\n",
            "\n"
          ]
        }
      ],
      "source": [
        "clf_report=classification_report(y_test , preds, target_names=[\"Local Neutral\",\"Main Input\"])\n",
        "print(clf_report)"
      ]
    },
    {
      "cell_type": "code",
      "execution_count": 104,
      "metadata": {
        "colab": {
          "base_uri": "https://localhost:8080/",
          "height": 410
        },
        "id": "sZS43jDFif-h",
        "outputId": "458d5d03-361d-4e52-abc3-fab0699e692a"
      },
      "outputs": [
        {
          "data": {
            "image/png": "[encoded data removed]",
            "text/plain": [
              "<Figure size 600x400 with 2 Axes>"
            ]
          },
          "metadata": {},
          "output_type": "display_data"
        }
      ],
      "source": [
        "conf_matrix = confusion_matrix(y_test , preds)\n",
        "conf_matrix_norm = conf_matrix.astype('float') / conf_matrix.sum(axis=1)[:, np.newaxis]\n",
        "plt.figure(figsize=(6, 4))\n",
        "class_labels = [\"Local Neutral\",\"Main Input\"]\n",
        "sns.heatmap(conf_matrix_norm, annot=True, cmap=\"Blues\", fmt=\".2f\", annot_kws={\"size\": 12},xticklabels=class_labels, yticklabels=class_labels)\n",
        "\n",
        "plt.title(\"Confusion Matrix Heatmap\")\n",
        "plt.xlabel(\"Predicted Labels\")\n",
        "plt.ylabel(\"True Labels\")\n",
        "plt.show()\n",
        "\n"
      ]
    },
    {
      "cell_type": "code",
      "execution_count": 105,
      "metadata": {
        "id": "eXQejq876-7g"
      },
      "outputs": [],
      "source": [
        "# torch.save(model.state_dict(), '/content/drive/MyDrive/WikiData5m/best_model_weights_feed_forward_classifier_test.pth')"
      ]
    },
    {
      "cell_type": "markdown",
      "metadata": {
        "id": "DVRRAIt8iwvz"
      },
      "source": [
        "# Siames Classifier"
      ]
    },
    {
      "cell_type": "code",
      "execution_count": 106,
      "metadata": {
        "colab": {
          "base_uri": "https://localhost:8080/"
        },
        "id": "voNgfTjimWdJ",
        "outputId": "71e136f7-6744-4f0d-c806-09a406dbb43f"
      },
      "outputs": [
        {
          "name": "stderr",
          "output_type": "stream",
          "text": [
            "Processing: 100%|██████████| 5000/5000 [03:37<00:00, 22.96it/s]\n",
            "Processing: 100%|██████████| 5000/5000 [03:34<00:00, 23.34it/s]\n"
          ]
        }
      ],
      "source": [
        "train_x_embeddings=get_embeddings(train_x,False)\n",
        "local_neutral_x_test_embeddings=get_embeddings(local_neutral_x_test,False)"
      ]
    },
    {
      "cell_type": "code",
      "execution_count": 107,
      "metadata": {
        "id": "NwXYpHO2nbVw"
      },
      "outputs": [],
      "source": [
        "from tqdm import tqdm\n",
        "from itertools import combinations, product,permutations\n",
        "class CustomDatasetCombined(Dataset):\n",
        "    def __init__(self, dataset):\n",
        "        self.input_embeddings1 = [val[0] for val in dataset]\n",
        "        self.input_embeddings2 = [val[1] for val in dataset]\n",
        "        self.labels = [val[2] for val in dataset]\n",
        "\n",
        "    def __len__(self):\n",
        "        return len(self.input_embeddings1)\n",
        "\n",
        "    def __getitem__(self, index):\n",
        "        emb1 = self.input_embeddings1[index]\n",
        "        emb2 = self.input_embeddings2[index]\n",
        "        label = self.labels[index]\n",
        "\n",
        "        return emb1, emb2, label\n",
        "\n",
        "def get_first_val_unique(groups):\n",
        "  unique_first_values = set([item[0] for item in groups])\n",
        "\n",
        "  # Step 2: Randomly select an entry for each unique first value\n",
        "  random_values = []\n",
        "  for first_value in unique_first_values:\n",
        "      entries_with_first_value = [item for item in groups if item[0] == first_value]\n",
        "      random_entry = random.choice(entries_with_first_value)\n",
        "      random_values.append(random_entry)\n",
        "  return random_values\n",
        "\n",
        "\n",
        "def create_combined_loss_dataset(x_pos,x_neg):\n",
        "  dataset=[]\n",
        "  for k, v in tqdm(x_pos.items()):\n",
        "    incremented_list_pos = [i for i in range(0, len(v))]\n",
        "    groups_pos=[list(val) for val in list(permutations(incremented_list_pos, 2))]\n",
        "    positives_random=get_first_val_unique(groups_pos)\n",
        "\n",
        "    positives=[]\n",
        "    for pair in positives_random:\n",
        "      positives.append([v[pair[0]],v[pair[1]],1])\n",
        "\n",
        "    incremented_list_neg = [i for i in range(0, len(x_neg[k]))]\n",
        "    groups_neg=[list(val) for val in list(product(incremented_list_neg, incremented_list_pos))]\n",
        "    negative_random=get_first_val_unique(groups_neg)\n",
        "    negatives=[]\n",
        "    random.shuffle(negative_random)\n",
        "    for pair in negative_random:#[:len(positives)]:#reduce if too many negative samples\n",
        "      negatives.append([x_neg[k][pair[0]],v[pair[1]],0])\n",
        "\n",
        "\n",
        "\n",
        "    dataset.extend(positives)#positive samples combinations\n",
        "    dataset.extend(negatives)#positive samples combinations\n",
        "  return dataset\n",
        "\n",
        "def create_dataloader_combined(dataset, batch_size):\n",
        "  scotus_bert_embedded_dataset = CustomDatasetCombined(dataset)\n",
        "  return DataLoader(scotus_bert_embedded_dataset, batch_size=batch_size, shuffle=True)"
      ]
    },
    {
      "cell_type": "code",
      "execution_count": 108,
      "metadata": {
        "colab": {
          "base_uri": "https://localhost:8080/"
        },
        "id": "8tP_bM4-2-Xn",
        "outputId": "4b03553b-5599-43e2-ea3b-502309da9cc2"
      },
      "outputs": [
        {
          "name": "stderr",
          "output_type": "stream",
          "text": [
            "100%|██████████| 5000/5000 [00:00<00:00, 24729.81it/s]\n"
          ]
        }
      ],
      "source": [
        "dataset= create_combined_loss_dataset(train_x_embeddings,local_neutral_x_test_embeddings)"
      ]
    },
    {
      "cell_type": "code",
      "execution_count": 109,
      "metadata": {
        "colab": {
          "base_uri": "https://localhost:8080/"
        },
        "id": "LqSb6yukKHBd",
        "outputId": "b4205bf8-ce13-43e2-d8ad-4afe8558ffc4"
      },
      "outputs": [
        {
          "name": "stdout",
          "output_type": "stream",
          "text": [
            "15000 15000\n"
          ]
        }
      ],
      "source": [
        "c_pos=0\n",
        "c_neg=0\n",
        "for val in dataset:\n",
        "  if(val[2]==1):\n",
        "    c_pos+=1\n",
        "  else:\n",
        "    c_neg+=1\n",
        "print(c_pos,c_neg)"
      ]
    },
    {
      "cell_type": "code",
      "execution_count": 110,
      "metadata": {
        "id": "WriJfIBWCYDo"
      },
      "outputs": [],
      "source": [
        "def train_model_combined(model,optimizer,data_loader,criterion1,criterion2):\n",
        "  num_epochs = 70\n",
        "  lowest_error = float('inf')\n",
        "  best_model_weights = None\n",
        "  for epoch in range(num_epochs):\n",
        "      for batch in data_loader:\n",
        "          embs1,embs2, labels = batch\n",
        "          optimizer.zero_grad()\n",
        "          output1, output2, output3 = model(embs1,embs2)\n",
        "          loss_classification = criterion1(output3, labels)\n",
        "          loss_semantic_sim = criterion2(output1,output2, labels)\n",
        "          alpha = 0.8\n",
        "          beta = 0.2\n",
        "          combined_loss = (alpha * loss_classification) + (beta * loss_semantic_sim)\n",
        "          combined_loss.backward()\n",
        "          optimizer.step()\n",
        "          if combined_loss.item() < lowest_error:\n",
        "            lowest_error = combined_loss.item()\n",
        "            best_model_weights = model.state_dict()\n",
        "      print(f'Epoch [{epoch + 1}/{num_epochs}] - Combined loss: {combined_loss.item():.4f} - Classification loss: {loss_classification.item():.4f} - Semantic Sim loss: {loss_semantic_sim.item():.4f}')\n",
        "  torch.save(best_model_weights, '/content//best_model_weights_siames_classifier_test.pth')\n",
        "  print('Training finished.')"
      ]
    },
    {
      "cell_type": "code",
      "execution_count": 111,
      "metadata": {
        "colab": {
          "base_uri": "https://localhost:8080/"
        },
        "id": "EUG019FRl_AI",
        "outputId": "c42a59c0-b92a-4dd3-f29b-bc86e2a575c5"
      },
      "outputs": [
        {
          "name": "stdout",
          "output_type": "stream",
          "text": [
            "Epoch [1/70] - Combined loss: 0.5835 - Classification loss: 0.6922 - Semantic Sim loss: 0.1484\n",
            "Epoch [2/70] - Combined loss: 0.5825 - Classification loss: 0.6941 - Semantic Sim loss: 0.1364\n",
            "Epoch [3/70] - Combined loss: 0.5980 - Classification loss: 0.6905 - Semantic Sim loss: 0.2283\n",
            "Epoch [4/70] - Combined loss: 0.5600 - Classification loss: 0.6925 - Semantic Sim loss: 0.0297\n",
            "Epoch [5/70] - Combined loss: 0.5688 - Classification loss: 0.6950 - Semantic Sim loss: 0.0637\n",
            "Epoch [6/70] - Combined loss: 0.5790 - Classification loss: 0.6900 - Semantic Sim loss: 0.1349\n",
            "Epoch [7/70] - Combined loss: 0.5781 - Classification loss: 0.6940 - Semantic Sim loss: 0.1144\n",
            "Epoch [8/70] - Combined loss: 0.5578 - Classification loss: 0.6821 - Semantic Sim loss: 0.0605\n",
            "Epoch [9/70] - Combined loss: 0.5447 - Classification loss: 0.6564 - Semantic Sim loss: 0.0978\n",
            "Epoch [10/70] - Combined loss: 0.5274 - Classification loss: 0.6503 - Semantic Sim loss: 0.0358\n",
            "Epoch [11/70] - Combined loss: 0.5106 - Classification loss: 0.6278 - Semantic Sim loss: 0.0418\n",
            "Epoch [12/70] - Combined loss: 0.4409 - Classification loss: 0.5423 - Semantic Sim loss: 0.0356\n",
            "Epoch [13/70] - Combined loss: 0.5508 - Classification loss: 0.6806 - Semantic Sim loss: 0.0314\n",
            "Epoch [14/70] - Combined loss: 0.4302 - Classification loss: 0.5284 - Semantic Sim loss: 0.0373\n",
            "Epoch [15/70] - Combined loss: 0.4576 - Classification loss: 0.5630 - Semantic Sim loss: 0.0358\n",
            "Epoch [16/70] - Combined loss: 0.4693 - Classification loss: 0.5448 - Semantic Sim loss: 0.1673\n",
            "Epoch [17/70] - Combined loss: 0.3100 - Classification loss: 0.3834 - Semantic Sim loss: 0.0162\n",
            "Epoch [18/70] - Combined loss: 0.4040 - Classification loss: 0.4900 - Semantic Sim loss: 0.0597\n",
            "Epoch [19/70] - Combined loss: 0.4072 - Classification loss: 0.5084 - Semantic Sim loss: 0.0024\n",
            "Epoch [20/70] - Combined loss: 0.3300 - Classification loss: 0.4024 - Semantic Sim loss: 0.0400\n",
            "Epoch [21/70] - Combined loss: 0.3132 - Classification loss: 0.3821 - Semantic Sim loss: 0.0375\n",
            "Epoch [22/70] - Combined loss: 0.3268 - Classification loss: 0.4021 - Semantic Sim loss: 0.0257\n",
            "Epoch [23/70] - Combined loss: 0.2920 - Classification loss: 0.3644 - Semantic Sim loss: 0.0024\n",
            "Epoch [24/70] - Combined loss: 0.3199 - Classification loss: 0.3923 - Semantic Sim loss: 0.0303\n",
            "Epoch [25/70] - Combined loss: 0.3621 - Classification loss: 0.4407 - Semantic Sim loss: 0.0477\n",
            "Epoch [26/70] - Combined loss: 0.4293 - Classification loss: 0.5190 - Semantic Sim loss: 0.0707\n",
            "Epoch [27/70] - Combined loss: 0.3065 - Classification loss: 0.3705 - Semantic Sim loss: 0.0508\n",
            "Epoch [28/70] - Combined loss: 0.2683 - Classification loss: 0.3283 - Semantic Sim loss: 0.0283\n",
            "Epoch [29/70] - Combined loss: 0.2652 - Classification loss: 0.3215 - Semantic Sim loss: 0.0398\n",
            "Epoch [30/70] - Combined loss: 0.2860 - Classification loss: 0.3494 - Semantic Sim loss: 0.0322\n",
            "Epoch [31/70] - Combined loss: 0.2624 - Classification loss: 0.3229 - Semantic Sim loss: 0.0201\n",
            "Epoch [32/70] - Combined loss: 0.2646 - Classification loss: 0.3244 - Semantic Sim loss: 0.0250\n",
            "Epoch [33/70] - Combined loss: 0.3154 - Classification loss: 0.3785 - Semantic Sim loss: 0.0630\n",
            "Epoch [34/70] - Combined loss: 0.2598 - Classification loss: 0.3151 - Semantic Sim loss: 0.0390\n",
            "Epoch [35/70] - Combined loss: 0.2585 - Classification loss: 0.3198 - Semantic Sim loss: 0.0134\n",
            "Epoch [36/70] - Combined loss: 0.2590 - Classification loss: 0.3173 - Semantic Sim loss: 0.0262\n",
            "Epoch [37/70] - Combined loss: 0.2627 - Classification loss: 0.3153 - Semantic Sim loss: 0.0526\n",
            "Epoch [38/70] - Combined loss: 0.2706 - Classification loss: 0.3255 - Semantic Sim loss: 0.0510\n",
            "Epoch [39/70] - Combined loss: 0.3044 - Classification loss: 0.3769 - Semantic Sim loss: 0.0143\n",
            "Epoch [40/70] - Combined loss: 0.2683 - Classification loss: 0.3310 - Semantic Sim loss: 0.0176\n",
            "Epoch [41/70] - Combined loss: 0.2841 - Classification loss: 0.3301 - Semantic Sim loss: 0.1002\n",
            "Epoch [42/70] - Combined loss: 0.2654 - Classification loss: 0.3248 - Semantic Sim loss: 0.0280\n",
            "Epoch [43/70] - Combined loss: 0.2517 - Classification loss: 0.3134 - Semantic Sim loss: 0.0049\n",
            "Epoch [44/70] - Combined loss: 0.3382 - Classification loss: 0.4133 - Semantic Sim loss: 0.0376\n",
            "Epoch [45/70] - Combined loss: 0.3029 - Classification loss: 0.3773 - Semantic Sim loss: 0.0053\n",
            "Epoch [46/70] - Combined loss: 0.3033 - Classification loss: 0.3727 - Semantic Sim loss: 0.0255\n",
            "Epoch [47/70] - Combined loss: 0.3471 - Classification loss: 0.4186 - Semantic Sim loss: 0.0611\n",
            "Epoch [48/70] - Combined loss: 0.2527 - Classification loss: 0.3154 - Semantic Sim loss: 0.0020\n",
            "Epoch [49/70] - Combined loss: 0.3058 - Classification loss: 0.3795 - Semantic Sim loss: 0.0113\n",
            "Epoch [50/70] - Combined loss: 0.2829 - Classification loss: 0.3509 - Semantic Sim loss: 0.0108\n",
            "Epoch [51/70] - Combined loss: 0.2523 - Classification loss: 0.3140 - Semantic Sim loss: 0.0053\n",
            "Epoch [52/70] - Combined loss: 0.2545 - Classification loss: 0.3158 - Semantic Sim loss: 0.0097\n",
            "Epoch [53/70] - Combined loss: 0.2737 - Classification loss: 0.3407 - Semantic Sim loss: 0.0057\n",
            "Epoch [54/70] - Combined loss: 0.2870 - Classification loss: 0.3541 - Semantic Sim loss: 0.0186\n",
            "Epoch [55/70] - Combined loss: 0.2524 - Classification loss: 0.3140 - Semantic Sim loss: 0.0059\n",
            "Epoch [56/70] - Combined loss: 0.3149 - Classification loss: 0.3802 - Semantic Sim loss: 0.0540\n",
            "Epoch [57/70] - Combined loss: 0.2620 - Classification loss: 0.3133 - Semantic Sim loss: 0.0565\n",
            "Epoch [58/70] - Combined loss: 0.2524 - Classification loss: 0.3139 - Semantic Sim loss: 0.0065\n",
            "Epoch [59/70] - Combined loss: 0.3060 - Classification loss: 0.3812 - Semantic Sim loss: 0.0050\n",
            "Epoch [60/70] - Combined loss: 0.2645 - Classification loss: 0.3231 - Semantic Sim loss: 0.0302\n",
            "Epoch [61/70] - Combined loss: 0.2549 - Classification loss: 0.3168 - Semantic Sim loss: 0.0073\n",
            "Epoch [62/70] - Combined loss: 0.2829 - Classification loss: 0.3489 - Semantic Sim loss: 0.0188\n",
            "Epoch [63/70] - Combined loss: 0.3030 - Classification loss: 0.3774 - Semantic Sim loss: 0.0053\n",
            "Epoch [64/70] - Combined loss: 0.3129 - Classification loss: 0.3764 - Semantic Sim loss: 0.0589\n",
            "Epoch [65/70] - Combined loss: 0.2520 - Classification loss: 0.3141 - Semantic Sim loss: 0.0039\n",
            "Epoch [66/70] - Combined loss: 0.3037 - Classification loss: 0.3788 - Semantic Sim loss: 0.0033\n",
            "Epoch [67/70] - Combined loss: 0.2545 - Classification loss: 0.3178 - Semantic Sim loss: 0.0015\n",
            "Epoch [68/70] - Combined loss: 0.2745 - Classification loss: 0.3391 - Semantic Sim loss: 0.0159\n",
            "Epoch [69/70] - Combined loss: 0.2516 - Classification loss: 0.3134 - Semantic Sim loss: 0.0046\n",
            "Epoch [70/70] - Combined loss: 0.2662 - Classification loss: 0.3313 - Semantic Sim loss: 0.0061\n",
            "Training finished.\n"
          ]
        }
      ],
      "source": [
        "data_loader_train=create_dataloader_combined(dataset,32)\n",
        "model_siames = SiameseClassificationNetwork(input_size=768,hidden_size1=384,hidden_size2=192, num_classes=2)\n",
        "criterion1 = nn.CrossEntropyLoss()\n",
        "criterion2 = CosineSimilarityLoss_SentenceTransformers()\n",
        "optimizer = optim.Adam(model_siames.parameters(), lr=0.0001,)\n",
        "\n",
        "train_model_combined(model_siames,optimizer,data_loader_train,criterion1,criterion2)"
      ]
    },
    {
      "cell_type": "code",
      "execution_count": 112,
      "metadata": {
        "colab": {
          "base_uri": "https://localhost:8080/"
        },
        "id": "vlcvWPiEGElj",
        "outputId": "1a654298-950a-43f7-e7a5-f7ad206345ed"
      },
      "outputs": [
        {
          "data": {
            "text/plain": [
              "<All keys matched successfully>"
            ]
          },
          "execution_count": 112,
          "metadata": {},
          "output_type": "execute_result"
        }
      ],
      "source": [
        "model_siames = SiameseClassificationNetwork(input_size=768,hidden_size1=384,hidden_size2=192, num_classes=2)\n",
        "model_siames.load_state_dict(torch.load('/content/best_model_weights_siames_classifier_test.pth'))"
      ]
    },
    {
      "cell_type": "code",
      "execution_count": 113,
      "metadata": {
        "id": "bjyLPfKleHui"
      },
      "outputs": [],
      "source": [
        "  def get_predictions_combind(model,dataset):\n",
        "    model.eval()\n",
        "    predicted_labels=[]\n",
        "    counter=0\n",
        "    with torch.no_grad():\n",
        "      for index,data in enumerate(dataset):\n",
        "        emb1,emb2,label=data\n",
        "        outputs = model(torch.tensor([emb1]),torch.tensor([emb2]))\n",
        "        out, inds = torch.max(outputs[2],dim=1)\n",
        "        pred=inds.cpu().numpy()\n",
        "        predicted_labels.extend(pred)\n",
        "        if(label!=pred[0]):\n",
        "          counter+=1\n",
        "    print(counter)\n",
        "    return predicted_labels"
      ]
    },
    {
      "cell_type": "code",
      "execution_count": 114,
      "metadata": {
        "id": "InTMxLO-ZzXE"
      },
      "outputs": [],
      "source": [
        "def get_predictions_combined_one_sided(model,embed):\n",
        "  model.eval()\n",
        "  predicted_labels=[]\n",
        "  counter=0\n",
        "  with torch.no_grad():\n",
        "    for key in embed.keys():\n",
        "      for emb in embed[key]:\n",
        "        outputs = model(torch.tensor([emb]),torch.zeros(768,))\n",
        "        out, inds = torch.max(outputs[2],dim=1)\n",
        "        pred=inds.cpu().numpy()\n",
        "\n",
        "        predicted_labels.extend(pred)\n",
        "\n",
        "        if(pred[0]!=1):\n",
        "          # print(outputs[2],pred)\n",
        "          counter+=1\n",
        "  print(counter)\n",
        "  return predicted_labels"
      ]
    },
    {
      "cell_type": "code",
      "execution_count": 115,
      "metadata": {
        "colab": {
          "base_uri": "https://localhost:8080/"
        },
        "id": "g7lweXbwCRiE",
        "outputId": "ef77228f-d85f-4923-84ed-f5f06ebcb66a"
      },
      "outputs": [
        {
          "name": "stderr",
          "output_type": "stream",
          "text": [
            "Processing: 100%|██████████| 5000/5000 [03:39<00:00, 22.73it/s]\n",
            "Processing: 100%|██████████| 5000/5000 [03:39<00:00, 22.77it/s]\n",
            "100%|██████████| 5000/5000 [00:00<00:00, 30056.65it/s]\n"
          ]
        },
        {
          "name": "stdout",
          "output_type": "stream",
          "text": [
            "453\n"
          ]
        }
      ],
      "source": [
        "test_x_embeddings=get_embeddings(paraphrase_x,False)\n",
        "local_neutral_x_test_embeddings=get_embeddings(local_neutral_x_test,False)\n",
        "dataset_test= create_combined_loss_dataset(train_x_embeddings,local_neutral_x_test_embeddings)\n",
        "y_test=[val[2] for val in dataset_test]\n",
        "preds=get_predictions_combind(model_siames,dataset_test)\n"
      ]
    },
    {
      "cell_type": "code",
      "execution_count": 116,
      "metadata": {
        "colab": {
          "base_uri": "https://localhost:8080/"
        },
        "id": "8uI8kH91Ddac",
        "outputId": "d70e902b-d279-4fe6-9779-d7c56715cdb5"
      },
      "outputs": [
        {
          "name": "stdout",
          "output_type": "stream",
          "text": [
            "453\n"
          ]
        }
      ],
      "source": [
        "preds=get_predictions_combind(model_siames,dataset_test)"
      ]
    },
    {
      "cell_type": "code",
      "execution_count": 117,
      "metadata": {
        "colab": {
          "base_uri": "https://localhost:8080/"
        },
        "id": "feRMjvQ0aSmn",
        "outputId": "2f942461-fa55-4780-ac5a-c88731788c59"
      },
      "outputs": [
        {
          "name": "stdout",
          "output_type": "stream",
          "text": [
            "181\n"
          ]
        }
      ],
      "source": [
        "p=get_predictions_combined_one_sided(model_siames,train_x_embeddings)"
      ]
    },
    {
      "cell_type": "code",
      "execution_count": 118,
      "metadata": {
        "colab": {
          "base_uri": "https://localhost:8080/"
        },
        "id": "wTiNaap6dAiM",
        "outputId": "39c65cf8-4c6d-4bd8-bcce-95e91cf4867a"
      },
      "outputs": [
        {
          "name": "stdout",
          "output_type": "stream",
          "text": [
            "               precision    recall  f1-score   support\n",
            "\n",
            "Local Neutral       0.99      0.98      0.98     15000\n",
            "   Main Input       0.98      0.99      0.98     15000\n",
            "\n",
            "     accuracy                           0.98     30000\n",
            "    macro avg       0.98      0.98      0.98     30000\n",
            " weighted avg       0.98      0.98      0.98     30000\n",
            "\n"
          ]
        }
      ],
      "source": [
        "clf_report=classification_report(y_test , preds, target_names=[\"Local Neutral\",\"Main Input\"])\n",
        "print(clf_report)\n"
      ]
    },
    {
      "cell_type": "code",
      "execution_count": 119,
      "metadata": {
        "colab": {
          "base_uri": "https://localhost:8080/",
          "height": 410
        },
        "id": "jYyZ9711hs-k",
        "outputId": "eb780f6e-b4be-4ac0-92f3-44c62d6840e6"
      },
      "outputs": [
        {
          "data": {
            "image/png": "[encoded data removed]",
            "text/plain": [
              "<Figure size 600x400 with 2 Axes>"
            ]
          },
          "metadata": {},
          "output_type": "display_data"
        }
      ],
      "source": [
        "conf_matrix = confusion_matrix(y_test , preds)\n",
        "conf_matrix_norm = conf_matrix.astype('float') / conf_matrix.sum(axis=1)[:, np.newaxis]\n",
        "plt.figure(figsize=(6, 4))\n",
        "class_labels = [\"Local Neutral\",\"Main Input\"]\n",
        "sns.heatmap(conf_matrix_norm, annot=True, cmap=\"Blues\", fmt=\".2f\", annot_kws={\"size\": 12},xticklabels=class_labels, yticklabels=class_labels)\n",
        "\n",
        "plt.title(\"Confusion Matrix Heatmap\")\n",
        "plt.xlabel(\"Predicted Labels\")\n",
        "plt.ylabel(\"True Labels\")\n",
        "plt.show()\n",
        "\n"
      ]
    },
    {
      "cell_type": "code",
      "execution_count": 120,
      "metadata": {
        "id": "vd5HDGuM4sOv"
      },
      "outputs": [],
      "source": [
        "# torch.save(model_siames.state_dict(), '/content/drive/MyDrive/WikiData5m/best_model_weights_siames_classifier_test.pth')"
      ]
    }
  ],
  "metadata": {
    "accelerator": "GPU",
    "colab": {
      "gpuType": "T4",
      "provenance": []
    },
    "kernelspec": {
      "display_name": "Python 3",
      "name": "python3"
    },
    "language_info": {
      "name": "python"
    }
  },
  "nbformat": 4,
  "nbformat_minor": 0
}
